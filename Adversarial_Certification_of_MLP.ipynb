{
  "nbformat": 4,
  "nbformat_minor": 0,
  "metadata": {
    "colab": {
      "provenance": [],
      "gpuType": "T4",
      "authorship_tag": "ABX9TyM9GAfreUTSTvWWqBDcT3Yq",
      "include_colab_link": true
    },
    "kernelspec": {
      "name": "python3",
      "display_name": "Python 3"
    },
    "language_info": {
      "name": "python"
    },
    "accelerator": "GPU"
  },
  "cells": [
    {
      "cell_type": "markdown",
      "metadata": {
        "id": "view-in-github",
        "colab_type": "text"
      },
      "source": [
        "<a href=\"https://colab.research.google.com/github/sevendaystoglory/temp/blob/main/Adversarial_Certification_of_MLP.ipynb\" target=\"_parent\"><img src=\"https://colab.research.google.com/assets/colab-badge.svg\" alt=\"Open In Colab\"/></a>"
      ]
    },
    {
      "cell_type": "code",
      "execution_count": 2,
      "metadata": {
        "colab": {
          "base_uri": "https://localhost:8080/"
        },
        "id": "cK5RY4KAE_OY",
        "outputId": "1100669e-11bf-4052-d265-4bb16af5e510"
      },
      "outputs": [
        {
          "output_type": "stream",
          "name": "stderr",
          "text": [
            "100%|██████████| 9.91M/9.91M [00:00<00:00, 16.1MB/s]\n",
            "100%|██████████| 28.9k/28.9k [00:00<00:00, 488kB/s]\n",
            "100%|██████████| 1.65M/1.65M [00:00<00:00, 4.47MB/s]\n",
            "100%|██████████| 4.54k/4.54k [00:00<00:00, 7.75MB/s]"
          ]
        },
        {
          "output_type": "stream",
          "name": "stdout",
          "text": [
            "torch.Size([64, 1, 28, 28])\n",
            "torch.Size([64])\n"
          ]
        },
        {
          "output_type": "stream",
          "name": "stderr",
          "text": [
            "\n"
          ]
        }
      ],
      "source": [
        "import torch\n",
        "from torchvision import datasets, transforms\n",
        "from torch.utils.data import DataLoader\n",
        "\n",
        "\n",
        "# Define transformation: convert images to tensors and normalize them\n",
        "transform = transforms.Compose([\n",
        "    transforms.ToTensor(),\n",
        "    transforms.Normalize((0.1307,), (0.3081,))\n",
        "])\n",
        "\n",
        "# Download and load training data\n",
        "train_dataset = datasets.MNIST(root='./data', train=True, download=True, transform=transform)\n",
        "train_loader = DataLoader(train_dataset, batch_size=64, shuffle=True)\n",
        "\n",
        "# Download and load test data\n",
        "test_dataset = datasets.MNIST(root='./data', train=False, download=True, transform=transform)\n",
        "test_loader = DataLoader(test_dataset, batch_size=64, shuffle=False)\n",
        "\n",
        "# Example: access one batch\n",
        "for images, labels in train_loader:\n",
        "    print(images.shape)  # torch.Size([64, 1, 28, 28])\n",
        "    print(labels.shape)  # torch.Size([64])\n",
        "    break\n"
      ]
    },
    {
      "cell_type": "code",
      "source": [
        "import torch.nn as nn\n",
        "import torch.nn.functional as F\n",
        "\n",
        "class neural_net(nn.Module):\n",
        "  def __init__(self, input_dim = 784, hidden_dim_1 = 256, hidden_dim_2 = 32, final_dim = 10) -> None:\n",
        "     super().__init__()\n",
        "     self.linear_1 = nn.Linear(input_dim, hidden_dim_1)\n",
        "     self.linear_2 = nn.Linear(hidden_dim_1, hidden_dim_2)\n",
        "     self.logits = nn.Linear(hidden_dim_2, final_dim)\n",
        "     self.criterion = nn.CrossEntropyLoss()\n",
        "\n",
        "  def forward(self, x):\n",
        "    #x --> B, H, W\n",
        "    x = x.view(x.shape[0], -1)\n",
        "    x=self.linear_1(x)\n",
        "    x=torch.relu(x)\n",
        "    x=self.linear_2(x)\n",
        "    logits = self.logits(x)\n",
        "    return logits"
      ],
      "metadata": {
        "id": "Ji0X1wLAFg9M"
      },
      "execution_count": 3,
      "outputs": []
    },
    {
      "cell_type": "code",
      "source": [
        "device = torch.device(\"cuda\")\n",
        "model = neural_net().to(device)"
      ],
      "metadata": {
        "id": "RKiEzwRKIZCc"
      },
      "execution_count": 4,
      "outputs": []
    },
    {
      "cell_type": "code",
      "source": [
        "import torch.optim as optim\n",
        "import torch.nn as nn\n",
        "\n",
        "\n",
        "optimizer = optim.Adam(model.parameters(), lr=0.001)\n",
        "criterion = nn.CrossEntropyLoss()\n",
        "\n",
        "model.train()\n",
        "num_epochs = 10\n",
        "\n",
        "for epoch in range(num_epochs):\n",
        "    for x, labels in train_loader:\n",
        "        x, labels = x.to(device), labels.to(device)\n",
        "\n",
        "        # Forward pass\n",
        "        logits = model(x)  # shape: [B, 10]\n",
        "\n",
        "        # Compute loss\n",
        "        loss = criterion(logits, labels)\n",
        "\n",
        "        # Backprop + optimization\n",
        "        optimizer.zero_grad()\n",
        "        loss.backward()\n",
        "        optimizer.step()\n",
        "\n",
        "    print(f\"Epoch [{epoch+1}/{num_epochs}], Loss: {loss.item():.4f}\")\n"
      ],
      "metadata": {
        "colab": {
          "base_uri": "https://localhost:8080/"
        },
        "id": "d7l1NSzjLC7R",
        "outputId": "4a9899e4-51ae-4074-d572-70eb8ac14264"
      },
      "execution_count": 5,
      "outputs": [
        {
          "output_type": "stream",
          "name": "stdout",
          "text": [
            "Epoch [1/10], Loss: 0.1227\n",
            "Epoch [2/10], Loss: 0.0116\n",
            "Epoch [3/10], Loss: 0.0031\n",
            "Epoch [4/10], Loss: 0.0199\n",
            "Epoch [5/10], Loss: 0.0201\n",
            "Epoch [6/10], Loss: 0.0079\n",
            "Epoch [7/10], Loss: 0.0090\n",
            "Epoch [8/10], Loss: 0.0003\n",
            "Epoch [9/10], Loss: 0.0595\n",
            "Epoch [10/10], Loss: 0.0001\n"
          ]
        }
      ]
    },
    {
      "cell_type": "code",
      "source": [
        "model.eval()\n",
        "correct = 0\n",
        "for x, labels in test_loader: #one batch at a time\n",
        "  x, labels = x.to(device), labels.to(device)\n",
        "  logits = model(x) #Bx10\n",
        "  loss = model.criterion(logits, labels)\n",
        "  _, predicted_index = torch.max(logits, dim=1)\n",
        "  for i, prediction in enumerate(predicted_index):\n",
        "    if prediction == labels[i]:\n",
        "      correct+=1"
      ],
      "metadata": {
        "id": "ciN0NMyTH6KN"
      },
      "execution_count": 6,
      "outputs": []
    },
    {
      "cell_type": "code",
      "source": [
        "class IBPCertifier:\n",
        "    def __init__(self, model):\n",
        "        \"\"\"\n",
        "        model: your trained nn.Module returning logits of shape [B, C]\n",
        "        \"\"\"\n",
        "        self.model = model\n",
        "        self.label = None\n",
        "\n",
        "    def certify(self, x0, epsilon, x0_orig=None, y0=None):\n",
        "        logits = self.model(x0.squeeze(0))\n",
        "        _, self.label = torch.max(logits, dim=1)\n",
        "\n",
        "        l, u = self._init_interval(x0, epsilon)\n",
        "\n",
        "        for layer in self._layers():\n",
        "            l, u = self._propagate_layer(layer, l, u)\n",
        "\n",
        "        return self._check_certification(l, u, x0_orig, y0), (l, u)\n",
        "\n",
        "\n",
        "    def _init_interval(self, x0, eps):\n",
        "        # clamp to [0,1] after normalization\n",
        "        lower = torch.clamp(x0 - eps, min=0.0, max=1.0)\n",
        "        upper = torch.clamp(x0 + eps, min=0.0, max=1.0)\n",
        "        return lower, upper\n",
        "\n",
        "    def _layers(self):\n",
        "        # return the sequence: [linear_1, relu, linear_2, relu, logits_layer]\n",
        "        # you can inspect self.model's modules, or list them manually\n",
        "      return [\n",
        "          # first, a flatten‐operation\n",
        "          \"flatten\",\n",
        "          self.model.linear_1,\n",
        "          nn.ReLU(),\n",
        "          self.model.linear_2,\n",
        "          nn.ReLU(),\n",
        "          self.model.logits\n",
        "      ]\n",
        "\n",
        "    def _propagate_layer(self, layer, l_in, u_in):\n",
        "        if layer == \"flatten\":\n",
        "            # collapse anything beyond the batch dim\n",
        "            B = l_in.size(0)\n",
        "            l_in = l_in.view(B, -1)\n",
        "            u_in = u_in.view(B, -1)\n",
        "            return l_in, u_in\n",
        "\n",
        "        elif isinstance(layer, nn.Linear):\n",
        "            # now l_in, u_in are [B, 784] and W is [256,784]\n",
        "            W = layer.weight\n",
        "            b = layer.bias\n",
        "            W_pos = torch.clamp(W, min=0)\n",
        "            W_neg = torch.clamp(W, max=0)\n",
        "\n",
        "            # sign‑split bound prop\n",
        "            l_out = F.linear(l_in, W_pos, b) + F.linear(u_in, W_neg, None)\n",
        "            u_out = F.linear(u_in, W_pos, b) + F.linear(l_in, W_neg, None)\n",
        "            return l_out, u_out\n",
        "\n",
        "        elif isinstance(layer, nn.ReLU):\n",
        "            # bounding box outsize ReLU, no trapezoid.\n",
        "            return torch.relu(l_in), torch.relu(u_in)\n",
        "\n",
        "        else:\n",
        "            raise NotImplementedError\n",
        "\n",
        "    def _check_certification(self, l_out, u_out, x0_orig=None, y0=None):\n",
        "        \"\"\"\n",
        "        l_out, u_out: output lower/upper bounds from IBP [1, C]\n",
        "        x0_orig: original input image [1,1,28,28] (optional)\n",
        "        y0: true label (int or tensor) (optional)\n",
        "        \"\"\"\n",
        "        t = self.label\n",
        "        lower_true = l_out[0, t]\n",
        "\n",
        "        C = u_out.size(1)\n",
        "        mask = torch.ones(C, dtype=torch.bool, device=u_out.device)\n",
        "        mask[t] = False\n",
        "        max_other = u_out[0, mask].max()\n",
        "        certified = (lower_true > max_other)\n",
        "\n",
        "        # ——— plot logit intervals ———\n",
        "        lows = l_out[0].cpu().detach().numpy()\n",
        "        ups = u_out[0].cpu().detach().numpy()\n",
        "        classes = list(range(C))\n",
        "\n",
        "        plt.figure(figsize=(6,4))\n",
        "        for i in classes:\n",
        "            plt.plot([i, i], [lows[i], ups[i]])\n",
        "        plt.scatter(classes, lows, label='lower bound')\n",
        "        plt.scatter(classes, ups,  label='upper bound')\n",
        "        plt.axhline(lows[t], linestyle='--', label=f'true class {t} lower')\n",
        "        plt.xticks(classes)\n",
        "        plt.xlabel(\"Class index\")\n",
        "        plt.ylabel(\"Logit value\")\n",
        "        plt.title(\"IBP output intervals per class\")\n",
        "        plt.legend()\n",
        "        plt.grid(True)\n",
        "        plt.show()\n",
        "\n",
        "        # ——— visualize misclassified input ———\n",
        "        if x0_orig is not None and y0 is not None:\n",
        "            print(\"sishtum\")\n",
        "            # Get clean prediction\n",
        "            with torch.no_grad():\n",
        "                pred_clean = self.model(x0_orig).argmax(1).item()\n",
        "            true_label = y0.item() if isinstance(y0, torch.Tensor) else y0\n",
        "            if pred_clean != true_label:\n",
        "                plt.figure(figsize=(3,3))\n",
        "                plt.imshow(x0_orig.squeeze().cpu(), cmap='gray')\n",
        "                plt.title(f\"Misclassified Input\\nTrue: {true_label}, Pred: {pred_clean}\")\n",
        "                plt.axis('off')\n",
        "                plt.show()\n",
        "        return certified\n",
        "\n"
      ],
      "metadata": {
        "id": "jHmOkIK9OT8Q"
      },
      "execution_count": 55,
      "outputs": []
    },
    {
      "cell_type": "code",
      "source": [
        "# 1. Import / define your certifier (make sure IBPCertifier is in scope)\n",
        "# from your_certifier_module import IBPCertifier\n",
        "\n",
        "# 2. Instantiate it with your trained model\n",
        "certifier = IBPCertifier(model)\n",
        "\n",
        "# 3. Grab one sample from the test set\n",
        "x_batch, y_batch = next(iter(test_loader))\n",
        "x0, y0 = x_batch[0:1].to(device), y_batch[0].item()  # shape [1,1,28,28], scalar label"
      ],
      "metadata": {
        "id": "vuK9EBXDPqoI"
      },
      "execution_count": 52,
      "outputs": []
    },
    {
      "cell_type": "code",
      "source": [
        "import matplotlib.pyplot as plt\n",
        "\n",
        "plt.imshow(x0.squeeze(0).squeeze(0).to(\"cpu\"), cmap='grey')\n",
        "plt.show()\n",
        "print(y0) # To check if the model even predicts the class properly before certifying."
      ],
      "metadata": {
        "colab": {
          "base_uri": "https://localhost:8080/",
          "height": 448
        },
        "id": "ykJeKJvwP8xQ",
        "outputId": "3bf21958-368b-407e-bfc0-cdae88efa267"
      },
      "execution_count": 53,
      "outputs": [
        {
          "output_type": "display_data",
          "data": {
            "text/plain": [
              "<Figure size 640x480 with 1 Axes>"
            ],
            "image/png": "[encoded data removed]"
          },
          "metadata": {}
        },
        {
          "output_type": "stream",
          "name": "stdout",
          "text": [
            "7\n"
          ]
        }
      ]
    },
    {
      "cell_type": "code",
      "source": [
        "# 4. Choose your perturbation radius\n",
        "epsilon = 0.1  # L∞ radius\n",
        "\n",
        "# 5. Run certification\n",
        "# x0 = input in [1,1,28,28]\n",
        "# y0 = corresponding label\n",
        "certified, (l_out, u_out) = certifier.certify(x0, epsilon=0.1, x0_orig=x0, y0=y0)\n",
        "\n",
        "\n",
        "# 6. Interpret results\n",
        "if certified:\n",
        "    print(f\"✅ Example {y0} is certified robust at ε = {epsilon}\")\n",
        "else:\n",
        "    print(f\"❌ Example {y0} is NOT certified at ε = {epsilon}\")\n",
        "    # Optionally see where it failed:\n",
        "    print(\"True‐class lower bound:\", l_out[0, y0].item())\n",
        "    print(\"Largest other upper bound:\", u_out[0, torch.arange(10)!=y0].max().item())"
      ],
      "metadata": {
        "id": "rfEiwH3oPyGP",
        "colab": {
          "base_uri": "https://localhost:8080/",
          "height": 482
        },
        "outputId": "982ecc22-c8bf-4d26-e809-a469978d8241"
      },
      "execution_count": 54,
      "outputs": [
        {
          "output_type": "stream",
          "name": "stdout",
          "text": [
            "sishtum\n",
            "❌ Example 7 is NOT certified at ε = 0.1\n",
            "True‐class lower bound: 2.412485361099243\n",
            "Largest other upper bound: 6.998123645782471\n"
          ]
        },
        {
          "output_type": "display_data",
          "data": {
            "text/plain": [
              "<Figure size 600x400 with 1 Axes>"
            ],
            "image/png": "[encoded data removed]"
          },
          "metadata": {}
        }
      ]
    },
    {
      "cell_type": "code",
      "source": [
        "def get_deviant_from_ibp_box(model, l, u, y0, u_out):\n",
        "    \"\"\"\n",
        "    Build a deviant input by choosing the corner of the input box\n",
        "    that favors the strongest competing class (based on final layer).\n",
        "    \"\"\"\n",
        "    # Step 1: Find strongest competing class\n",
        "    competing_classes = torch.arange(u_out.size(1), device=u_out.device) != y0\n",
        "    j = u_out[0, competing_classes].argmax().item()\n",
        "    j = torch.arange(u_out.size(1), device=u_out.device)[competing_classes][j].item()\n",
        "\n",
        "    # Step 2: Use final layer weights to guide input choice\n",
        "    # Get gradient signal back to input space\n",
        "    final_weight = model.logits.weight[j]  # shape: [hidden_dim]\n",
        "    # Approximate as fully positive influence => just pick u for all dims\n",
        "    # (or reverse if you want to be more nuanced)\n",
        "\n",
        "    # Flatten bounds\n",
        "    l_flat = l.view(1, -1)\n",
        "    u_flat = u.view(1, -1)\n",
        "\n",
        "    # Just pick u_flat to simulate worst-case\n",
        "    x_star_flat = u_flat.clone()\n",
        "\n",
        "    x_star = x_star_flat.view_as(l)\n",
        "    return x_star, j\n"
      ],
      "metadata": {
        "id": "nkrd2v75jF0x"
      },
      "execution_count": 27,
      "outputs": []
    },
    {
      "cell_type": "code",
      "source": [
        "# 1) Recompute the input interval bounds (l0, u0)\n",
        "l0 = torch.clamp(x0 - epsilon, min=0.0, max=1.0)  # shape [1,1,28,28]\n",
        "u0 = torch.clamp(x0 + epsilon, min=0.0, max=1.0)  # shape [1,1,28,28]\n",
        "\n",
        "# 2) Build the deviant from the input box\n",
        "x_star, adv_class = get_deviant_from_ibp_box(model, l0, u0, y0, u_out)\n",
        "\n",
        "# 3) Now x_star has shape [1,1,28,28] → you can pass it straight to your model\n",
        "pred_star = model(x_star).argmax(1).item()\n",
        "\n",
        "# 4) Visualize\n",
        "import matplotlib.pyplot as plt\n",
        "\n",
        "plt.figure(figsize=(6,3))\n",
        "plt.subplot(1,2,1)\n",
        "plt.title(f\"Clean (label: {y0})\")\n",
        "plt.imshow(x0.cpu().squeeze(), cmap='gray')\n",
        "plt.axis('off')\n",
        "\n",
        "plt.subplot(1,2,2)\n",
        "plt.title(f\"Deviant (pred: {pred_star})\")\n",
        "plt.imshow(x_star.cpu().squeeze(), cmap='gray')\n",
        "plt.axis('off')\n",
        "\n",
        "plt.tight_layout()\n",
        "plt.show()"
      ],
      "metadata": {
        "colab": {
          "base_uri": "https://localhost:8080/",
          "height": 316
        },
        "id": "wWUg7PGPkHh8",
        "outputId": "4f027190-d955-422d-da81-7d2b054f5a41"
      },
      "execution_count": 29,
      "outputs": [
        {
          "output_type": "display_data",
          "data": {
            "text/plain": [
              "<Figure size 600x300 with 2 Axes>"
            ],
            "image/png": "[encoded data removed]"
          },
          "metadata": {}
        }
      ]
    }
  ]
}