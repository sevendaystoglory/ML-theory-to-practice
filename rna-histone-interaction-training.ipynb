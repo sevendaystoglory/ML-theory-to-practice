{
  "cells": [
    {
      "cell_type": "markdown",
      "metadata": {
        "id": "view-in-github",
        "colab_type": "text"
      },
      "source": [
        "<a href=\"https://colab.research.google.com/github/sevendaystoglory/temp/blob/main/rna-histone-interaction-training.ipynb\" target=\"_parent\"><img src=\"https://colab.research.google.com/assets/colab-badge.svg\" alt=\"Open In Colab\"/></a>"
      ]
    },
    {
      "cell_type": "code",
      "source": [
        "import torch\n",
        "em = torch.load(\"/content/ncbi_training_data/embeddings_0_part_0.pt\")"
      ],
      "metadata": {
        "id": "-kTlx0ZtC3FR",
        "outputId": "1c8a9636-61a4-4fc2-ed4c-068c73bf698e",
        "colab": {
          "base_uri": "https://localhost:8080/"
        }
      },
      "execution_count": 8,
      "outputs": [
        {
          "output_type": "stream",
          "name": "stderr",
          "text": [
            "<ipython-input-8-0958047b53ea>:2: FutureWarning: You are using `torch.load` with `weights_only=False` (the current default value), which uses the default pickle module implicitly. It is possible to construct malicious pickle data which will execute arbitrary code during unpickling (See https://github.com/pytorch/pytorch/blob/main/SECURITY.md#untrusted-models for more details). In a future release, the default value for `weights_only` will be flipped to `True`. This limits the functions that could be executed during unpickling. Arbitrary objects will no longer be allowed to be loaded via this mode unless they are explicitly allowlisted by the user via `torch.serialization.add_safe_globals`. We recommend you start setting `weights_only=True` for any use case where you don't have full control of the loaded file. Please open an issue on GitHub for any issues related to this experimental feature.\n",
            "  em = torch.load(\"/content/ncbi_training_data/embeddings_0_part_0.pt\")\n"
          ]
        }
      ]
    },
    {
      "cell_type": "code",
      "source": [
        "len(em[0]['Interactor1.Embeddings'])"
      ],
      "metadata": {
        "id": "JTBuAlb-EtbP",
        "outputId": "4222bf6f-2af2-46b6-f9f2-b707e1952ce5",
        "colab": {
          "base_uri": "https://localhost:8080/"
        }
      },
      "execution_count": 17,
      "outputs": [
        {
          "output_type": "execute_result",
          "data": {
            "text/plain": [
              "640"
            ]
          },
          "metadata": {},
          "execution_count": 17
        }
      ]
    },
    {
      "cell_type": "code",
      "source": [
        "import os\n",
        "import torch\n",
        "import torch.nn as nn\n",
        "import torch.nn.functional as F\n",
        "from torch.utils.data import Dataset, DataLoader\n",
        "from sklearn.model_selection import train_test_split\n",
        "\n",
        "# Define the InteractionPredictor model with a corrected forward method.\n",
        "class InteractionPredictor(nn.Module):\n",
        "    def __init__(self, gene_dim=640, histone_dim=768, common_dim=256, pooling='cls'):\n",
        "        super(InteractionPredictor, self).__init__()\n",
        "        self.pooling = pooling\n",
        "        self.gene_proj = nn.Linear(gene_dim, common_dim)\n",
        "        self.histone_proj = nn.Linear(histone_dim, common_dim)\n",
        "\n",
        "    def forward(self, gene_embeddings, histone_embeddings, true_score):\n",
        "        # Pool the embeddings to obtain a single representation per modality\n",
        "        if self.pooling == 'cls':\n",
        "            gene_repr = gene_embeddings\n",
        "            histone_repr = histone_embeddings\n",
        "        elif self.pooling == 'mean':\n",
        "            gene_repr = gene_embeddings.mean(dim=1)\n",
        "            histone_repr = histone_embeddings.mean(dim=1)\n",
        "        else:\n",
        "            raise ValueError(\"Pooling method not recognized. Choose 'cls' or 'mean'.\")\n",
        "\n",
        "        # Project into a common latent space\n",
        "        gene_proj = self.gene_proj(gene_repr)\n",
        "        histone_proj = self.histone_proj(histone_repr)\n",
        "\n",
        "        # Compute cosine similarity (returns values between -1 and 1)\n",
        "        predicted_score = F.cosine_similarity(gene_proj, histone_proj, dim=1)\n",
        "\n",
        "        # Convert cosine similarity to range [0, 1]\n",
        "        predicted_score = (predicted_score + 1) / 2\n",
        "\n",
        "        # Compute regression loss between predicted score and true score\n",
        "        criterion = nn.MSELoss()\n",
        "        loss = criterion(predicted_score, true_score)\n",
        "        return loss\n",
        "\n",
        "# Custom dataset to load our interaction data from .pt files.\n",
        "class InteractionDataset(Dataset):\n",
        "    def __init__(self, data_list):\n",
        "        \"\"\"\n",
        "        data_list: a list of dictionaries with keys:\n",
        "                   'Interactor1.Embeddings', 'Interactor2.Embeddings', and 'score'\n",
        "        \"\"\"\n",
        "        self.data = data_list\n",
        "\n",
        "    def __len__(self):\n",
        "        return len(self.data)\n",
        "\n",
        "    def __getitem__(self, index):\n",
        "        sample = self.data[index]\n",
        "        gene_embedding = sample['Interactor1.Embeddings']\n",
        "        histone_embedding = sample['Interactor2.Embeddings']\n",
        "        score = sample['score']\n",
        "\n",
        "        # Ensure embeddings are tensors; if not, convert them.\n",
        "        if not torch.is_tensor(gene_embedding):\n",
        "            gene_embedding = torch.tensor(gene_embedding, dtype=torch.float)\n",
        "        if not torch.is_tensor(histone_embedding):\n",
        "            histone_embedding = torch.tensor(histone_embedding, dtype=torch.float)\n",
        "\n",
        "        # Add a batch dimension if needed (here assuming each sample is 2D: [tokens, dim])\n",
        "        # If your embeddings are already 2D (e.g., [1, gene_dim]) this is fine.\n",
        "        # Otherwise, adjust as needed.\n",
        "\n",
        "        # Convert score to a float tensor\n",
        "        score = torch.tensor(score, dtype=torch.float)\n",
        "        return gene_embedding, histone_embedding, score\n",
        "\n",
        "# Set the directory containing the .pt files\n",
        "data_dir = \"ncbi_training_data\"\n",
        "\n",
        "# Load all .pt files and combine the lists\n",
        "all_data = []\n",
        "for file in os.listdir(data_dir):\n",
        "    if file.endswith('.pt'):\n",
        "        file_path = os.path.join(data_dir, file)\n",
        "        data = torch.load(file_path)\n",
        "        all_data.extend(data)\n",
        "\n",
        "# Split the data into training and test sets (80% train, 20% test)\n",
        "train_data, test_data = train_test_split(all_data, test_size=0.2, random_state=42)\n",
        "\n",
        "# Create Dataset and DataLoader instances\n",
        "train_dataset = InteractionDataset(train_data)\n",
        "test_dataset = InteractionDataset(test_data)\n",
        "\n",
        "train_loader = DataLoader(train_dataset, batch_size=32, shuffle=True)\n",
        "test_loader = DataLoader(test_dataset, batch_size=32, shuffle=False)\n",
        "\n",
        "# For reproducibility\n",
        "torch.manual_seed(42)\n",
        "\n",
        "# Initialize the model, optimizer, and number of training epochs.\n",
        "model = InteractionPredictor(gene_dim=640, histone_dim=768, common_dim=256, pooling='cls')\n",
        "optimizer = torch.optim.Adam(model.parameters(), lr=1e-3)\n",
        "num_epochs = 10"
      ],
      "metadata": {
        "id": "NzRqveW__n9D",
        "outputId": "5afacf5f-fef6-4b96-d9af-f3f8db95b1b5",
        "colab": {
          "base_uri": "https://localhost:8080/"
        }
      },
      "execution_count": 22,
      "outputs": [
        {
          "output_type": "stream",
          "name": "stderr",
          "text": [
            "<ipython-input-22-d41c4b40d9cf>:82: FutureWarning: You are using `torch.load` with `weights_only=False` (the current default value), which uses the default pickle module implicitly. It is possible to construct malicious pickle data which will execute arbitrary code during unpickling (See https://github.com/pytorch/pytorch/blob/main/SECURITY.md#untrusted-models for more details). In a future release, the default value for `weights_only` will be flipped to `True`. This limits the functions that could be executed during unpickling. Arbitrary objects will no longer be allowed to be loaded via this mode unless they are explicitly allowlisted by the user via `torch.serialization.add_safe_globals`. We recommend you start setting `weights_only=True` for any use case where you don't have full control of the loaded file. Please open an issue on GitHub for any issues related to this experimental feature.\n",
            "  data = torch.load(file_path)\n"
          ]
        }
      ]
    },
    {
      "cell_type": "code",
      "source": [
        "# Evaluate before the training\n",
        "model.eval()\n",
        "test_loss = 0.0\n",
        "with torch.no_grad():\n",
        "    for gene_embeddings, histone_embeddings, true_score in test_loader:\n",
        "        true_score = true_score.float()\n",
        "        loss = model(gene_embeddings, histone_embeddings, true_score)\n",
        "        test_loss += loss.item() * gene_embeddings.size(0)\n",
        "    test_loss /= len(test_dataset)\n",
        "print(f\"Test Loss: {test_loss:.4f}\")"
      ],
      "metadata": {
        "id": "iS6LRiNz_yGM",
        "outputId": "12e56904-6f8b-4bdc-f0d9-0d7c58951f7c",
        "colab": {
          "base_uri": "https://localhost:8080/"
        }
      },
      "execution_count": 24,
      "outputs": [
        {
          "output_type": "stream",
          "name": "stdout",
          "text": [
            "Test Loss: 0.1712\n"
          ]
        }
      ]
    },
    {
      "cell_type": "code",
      "source": [
        "# Training loop\n",
        "for epoch in range(num_epochs):\n",
        "    model.train()\n",
        "    running_loss = 0.0\n",
        "    for gene_embeddings, histone_embeddings, true_score in train_loader:\n",
        "        optimizer.zero_grad()\n",
        "        # Ensure true_score has the correct shape (batch_size,)\n",
        "        true_score = true_score.float()\n",
        "        loss = model(gene_embeddings, histone_embeddings, true_score)\n",
        "        loss.backward()\n",
        "        optimizer.step()\n",
        "        running_loss += loss.item() * gene_embeddings.size(0)\n",
        "    epoch_loss = running_loss / len(train_dataset)\n",
        "    print(f\"Epoch {epoch+1}/{num_epochs} training loss: {epoch_loss:.4f}\")\n",
        "\n",
        "# Evaluate on test data\n",
        "model.eval()\n",
        "test_loss = 0.0\n",
        "with torch.no_grad():\n",
        "    for gene_embeddings, histone_embeddings, true_score in test_loader:\n",
        "        true_score = true_score.float()\n",
        "        loss = model(gene_embeddings, histone_embeddings, true_score)\n",
        "        test_loss += loss.item() * gene_embeddings.size(0)\n",
        "    test_loss /= len(test_dataset)\n",
        "print(f\"Test Loss: {test_loss:.4f}\")"
      ],
      "metadata": {
        "id": "NnZLuxxf_w5b",
        "outputId": "44224834-1972-4f56-839b-5ee47ecbab6e",
        "colab": {
          "base_uri": "https://localhost:8080/"
        }
      },
      "execution_count": 25,
      "outputs": [
        {
          "output_type": "stream",
          "name": "stdout",
          "text": [
            "Epoch 1/10 training loss: 0.0102\n",
            "Epoch 2/10 training loss: 0.0070\n",
            "Epoch 3/10 training loss: 0.0068\n",
            "Epoch 4/10 training loss: 0.0067\n",
            "Epoch 5/10 training loss: 0.0065\n",
            "Epoch 6/10 training loss: 0.0063\n",
            "Epoch 7/10 training loss: 0.0063\n",
            "Epoch 8/10 training loss: 0.0062\n",
            "Epoch 9/10 training loss: 0.0062\n",
            "Epoch 10/10 training loss: 0.0060\n",
            "Test Loss: 0.0064\n"
          ]
        }
      ]
    }
  ],
  "metadata": {
    "colab": {
      "name": "Welcome to Colaboratory",
      "provenance": [],
      "gpuType": "T4",
      "include_colab_link": true
    },
    "kernelspec": {
      "display_name": "Python 3",
      "name": "python3"
    },
    "accelerator": "GPU"
  },
  "nbformat": 4,
  "nbformat_minor": 0
}