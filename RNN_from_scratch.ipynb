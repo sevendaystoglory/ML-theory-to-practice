{
  "cells": [
    {
      "cell_type": "markdown",
      "metadata": {
        "id": "view-in-github",
        "colab_type": "text"
      },
      "source": [
        "<a href=\"https://colab.research.google.com/github/sevendaystoglory/ML-theory-to-practice/blob/main/RNN_from_scratch.ipynb\" target=\"_parent\"><img src=\"https://colab.research.google.com/assets/colab-badge.svg\" alt=\"Open In Colab\"/></a>"
      ]
    },
    {
      "cell_type": "code",
      "source": [
        "import numpy as np\n",
        "\n",
        "class SimpleRNN:\n",
        "  def __init__(self, input_size, hidden_size, output_size):\n",
        "    self.hidden_size = hidden_size\n",
        "    self.output_size = output_size\n",
        "    self.W_xh = np.random.randn(hidden_size, input_size)*0.01\n",
        "    self.W_hh = np.random.randn(hidden_size, hidden_size)*0.01\n",
        "    self.W_hy = np.random.randn(output_size, hidden_size)*0.01\n",
        "    self.b_h = np.zeros((hidden_size, 1))\n",
        "    self.b_y = np.zeros((output_size, 1))\n",
        "\n",
        "  def forward(self, x):\n",
        "    self.h = np.zeros((len(x), self.hidden_size))\n",
        "    y = []\n",
        "    h_i = np.zeros((self.hidden_size, 1))\n",
        "    for i, x_i in enumerate(x):\n",
        "        x_i = np.array(x_i).reshape(-1,1)\n",
        "        h_i = self.W_xh @ x_i + self.W_hh @ h_i + self.b_h\n",
        "        y_i = self.W_hy @ h_i + self.b_y\n",
        "        self.h[i] = h_i.flatten()\n",
        "        y.append(y_i)\n",
        "    # return self.W_hy\n",
        "    self.o = np.array(y)\n",
        "    return np.array(y)\n",
        "\n",
        "  def backward(self, x, y, learning_rate):\n",
        "    lr = learning_rate\n",
        "    o = self.o\n",
        "    T = o.shape[0]\n",
        "    grad_h = np.zeros((self.hidden_size, 1))\n",
        "\n",
        "    d_grad_w = np.zeros_like(self.W_hh)\n",
        "    d_grad_u = np.zeros_like(self.W_xh)\n",
        "    d_grad_v = np.zeros_like(self.W_hy)\n",
        "    d_grad_o = np.zeros_like(self.b_y)\n",
        "    d_grad_h = np.zeros_like(self.b_h)\n",
        "\n",
        "    for i in range(T-1, -1, -1):\n",
        "        x_i, o_i, y_i, h_i  =x[i], o[i], y[i], self.h[i]\n",
        "        h_prev = self.h[i-1] if i > 0 else np.zeros_like(h_i)\n",
        "        o_i = o_i.reshape(-1,1)\n",
        "        x_i = x_i.reshape(-1,1)\n",
        "        h_i = h_i.reshape(-1,1)\n",
        "        y_i = y_i.reshape(-1,1)\n",
        "        h_prev = h_prev.reshape(-1,1)\n",
        "        grad_o = 2 * (o_i - y_i)\n",
        "        d_grad_o += grad_o\n",
        "        grad_h = self.W_hy.T @ grad_o + self.W_hh.T @ grad_h\n",
        "        d_grad_w += grad_h @ h_prev.T\n",
        "        d_grad_h += grad_h\n",
        "        d_grad_v += grad_o @ h_i.T\n",
        "        d_grad_u += grad_h @ x_i.T\n",
        "\n",
        "        # update now\n",
        "    self.W_hy -= lr * d_grad_v\n",
        "    self.W_hh -= lr * d_grad_w\n",
        "    self.W_xh -= lr * d_grad_u\n",
        "    self.b_y -= lr * d_grad_o\n",
        "    self.b_h -= lr * d_grad_h\n",
        "    # print(self.W_hy)\n",
        "    # print(self.W_hh)\n",
        "    # print(self.W_xh)\n",
        "    # print(self.b_y)\n",
        "    # print(self.b_h)\n",
        "    pass\n"
      ],
      "metadata": {
        "id": "WrTY5_RVD8Av"
      },
      "execution_count": 553,
      "outputs": []
    },
    {
      "cell_type": "code",
      "source": [
        "import numpy as np\n",
        "np.random.seed(42)\n",
        "input_sequence = np.array([[1.0], [2.0], [3.0], [4.0]])\n",
        "expected_output = np.array([[2.0], [3.0], [4.0], [5.0]])\n",
        "rnn = SimpleRNN(input_size=1, hidden_size=5, output_size=1) # Train the RNN over multiple epochs"
      ],
      "metadata": {
        "collapsed": true,
        "id": "pxN5Y6f1D_HA"
      },
      "execution_count": 554,
      "outputs": []
    },
    {
      "cell_type": "code",
      "source": [
        "for epoch in range(10):\n",
        "  output = rnn.forward(input_sequence)\n",
        "  rnn.backward(input_sequence, expected_output, learning_rate=0.001)\n",
        "print(output)"
      ],
      "metadata": {
        "id": "rvnAlxO9NBLY",
        "outputId": "1cf61f1b-de99-4a6f-d62a-686b9af9780c",
        "colab": {
          "base_uri": "https://localhost:8080/"
        }
      },
      "execution_count": 577,
      "outputs": [
        {
          "output_type": "stream",
          "name": "stdout",
          "text": [
            "[[[2.18526922]]\n",
            "\n",
            " [[3.07913639]]\n",
            "\n",
            " [[3.99845648]]\n",
            "\n",
            " [[4.92548556]]]\n"
          ]
        }
      ]
    },
    {
      "cell_type": "code",
      "source": [
        "class SimpleComp:\n",
        "  def __init__(self, w, lr = 0.01):\n",
        "    self.lr = lr\n",
        "    self.w = w\n",
        "  def forward(self, x):\n",
        "    self.x = x\n",
        "    return x*self.w\n",
        "  def backward(self, y_pred, y):\n",
        "    err = y_pred - y\n",
        "    grad_y = 2 * err\n",
        "    grad_w = self.x * grad_y\n",
        "    grad_x = self.w * grad_y\n",
        "    # step\n",
        "    self.w -= self.lr * grad_w"
      ],
      "metadata": {
        "id": "bhsayH1uHOlH"
      },
      "execution_count": 212,
      "outputs": []
    },
    {
      "cell_type": "code",
      "source": [
        "f = SimpleComp(1, lr = 0.0009)\n",
        "x=10\n",
        "y = f.forward(x)\n",
        "y"
      ],
      "metadata": {
        "id": "KXLjmgP_IRIY",
        "outputId": "5a54756d-102b-48b2-8756-25ed0e84129b",
        "colab": {
          "base_uri": "https://localhost:8080/"
        }
      },
      "execution_count": 240,
      "outputs": [
        {
          "output_type": "execute_result",
          "data": {
            "text/plain": [
              "10"
            ]
          },
          "metadata": {},
          "execution_count": 240
        }
      ]
    },
    {
      "cell_type": "code",
      "source": [
        "y = []\n",
        "for steps in range(200):\n",
        "  y_pred = f.forward(x)\n",
        "  f.backward(y_pred, 2) #true label = 2\n",
        "  y.append(f.w*x)"
      ],
      "metadata": {
        "id": "iD_BkhEyIaOm"
      },
      "execution_count": 241,
      "outputs": []
    },
    {
      "cell_type": "code",
      "source": [
        "import matplotlib.pyplot as plt\n",
        "\n",
        "plt.plot(np.arange(200), np.array(y))"
      ],
      "metadata": {
        "id": "cbRZI1gvIe2j",
        "outputId": "21741fcd-c070-4555-9b38-a6f4fcc19d04",
        "colab": {
          "base_uri": "https://localhost:8080/",
          "height": 447
        }
      },
      "execution_count": 242,
      "outputs": [
        {
          "output_type": "execute_result",
          "data": {
            "text/plain": [
              "[<matplotlib.lines.Line2D at 0x7c555ccee150>]"
            ]
          },
          "metadata": {},
          "execution_count": 242
        },
        {
          "output_type": "display_data",
          "data": {
            "text/plain": [
              "<Figure size 640x480 with 1 Axes>"
            ],
            "image/png": "[encoded data removed]"
          },
          "metadata": {}
        }
      ]
    },
    {
      "cell_type": "code",
      "source": [
        "import torch\n",
        "import torch.nn as nn\n",
        "\n",
        "class RNNtorch(nn.Module):\n",
        "  def __init__(self, input_size, hidden_size, output_size):\n",
        "    super().__init__()\n",
        "    self.hidden_size = hidden_size\n",
        "    self.W_xh = nn.Linear(input_size, hidden_size)\n",
        "    self.W_hh = nn.Linear(hidden_size, hidden_size)\n",
        "    self.W_hy = nn.Linear(hidden_size, output_size)\n",
        "  def forward(self, x):\n",
        "    # x is a T, C tensor\n",
        "    self.h = torch.zeros(self.hidden_size)\n",
        "    pred = []\n",
        "    for t in range(x.shape[0]):\n",
        "      self.h = self.W_hh(self.h) + self.W_xh(x[t])\n",
        "      y = self.W_hy(self.h)\n",
        "      pred.append(y)\n",
        "    return torch.stack(pred)\n"
      ],
      "metadata": {
        "id": "Pb6jfXtLQLLt"
      },
      "execution_count": 472,
      "outputs": []
    },
    {
      "cell_type": "code",
      "source": [
        "import numpy as np\n",
        "np.random.seed(42)\n",
        "x = torch.tensor([[1.0], [2.0], [3.0], [4.0]])\n",
        "y = torch.tensor([[2.0], [3.0], [4.0], [5.0]])\n",
        "rnn = RNNtorch(input_size=1, hidden_size=5, output_size=1) # Train the RNN over multiple epochs"
      ],
      "metadata": {
        "id": "tcxoQsWSRq3e"
      },
      "execution_count": 545,
      "outputs": []
    },
    {
      "cell_type": "code",
      "source": [
        "pred = rnn(x)\n",
        "pred"
      ],
      "metadata": {
        "id": "BQ462DRlSQGE",
        "outputId": "ef165509-c50c-4a9c-fc5d-280b7b8d7526",
        "colab": {
          "base_uri": "https://localhost:8080/"
        }
      },
      "execution_count": 546,
      "outputs": [
        {
          "output_type": "execute_result",
          "data": {
            "text/plain": [
              "tensor([[-0.0119],\n",
              "        [-0.3083],\n",
              "        [-0.7851],\n",
              "        [-1.2772]], grad_fn=<StackBackward0>)"
            ]
          },
          "metadata": {},
          "execution_count": 546
        }
      ]
    },
    {
      "cell_type": "code",
      "source": [
        "import torch.optim as optim\n",
        "optimizer = optim.Adam(params = rnn.parameters(), lr=0.0001)\n",
        "for epoch in range(100):\n",
        "  rnn.zero_grad\n",
        "  pred = rnn(x)\n",
        "  loss = torch.mean((pred - y)**2)\n",
        "  loss.backward()\n",
        "  optimizer.step()\n",
        "print(pred)"
      ],
      "metadata": {
        "id": "wdHZ2GsBRwZR",
        "outputId": "07f30c7c-defe-4166-d773-3890f85ece8f",
        "colab": {
          "base_uri": "https://localhost:8080/"
        }
      },
      "execution_count": 552,
      "outputs": [
        {
          "output_type": "stream",
          "name": "stdout",
          "text": [
            "tensor([[1.8126],\n",
            "        [2.9238],\n",
            "        [3.2975],\n",
            "        [3.0961]], grad_fn=<StackBackward0>)\n"
          ]
        }
      ]
    }
  ],
  "metadata": {
    "colab": {
      "name": "Welcome to Colab",
      "toc_visible": true,
      "provenance": [],
      "include_colab_link": true
    },
    "kernelspec": {
      "display_name": "Python 3",
      "name": "python3"
    }
  },
  "nbformat": 4,
  "nbformat_minor": 0
}