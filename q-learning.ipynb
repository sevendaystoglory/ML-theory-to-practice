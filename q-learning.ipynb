{
  "nbformat": 4,
  "nbformat_minor": 0,
  "metadata": {
    "colab": {
      "provenance": [],
      "authorship_tag": "ABX9TyP4s0BZ5s8KSBX+1Sg3xP6m",
      "include_colab_link": true
    },
    "kernelspec": {
      "name": "python3",
      "display_name": "Python 3"
    },
    "language_info": {
      "name": "python"
    }
  },
  "cells": [
    {
      "cell_type": "markdown",
      "metadata": {
        "id": "view-in-github",
        "colab_type": "text"
      },
      "source": [
        "<a href=\"https://colab.research.google.com/github/sevendaystoglory/temp/blob/main/q-learning.ipynb\" target=\"_parent\"><img src=\"https://colab.research.google.com/assets/colab-badge.svg\" alt=\"Open In Colab\"/></a>"
      ]
    },
    {
      "cell_type": "code",
      "execution_count": 37,
      "metadata": {
        "id": "1gVlFIXGw16B"
      },
      "outputs": [],
      "source": [
        "import numpy as np\n",
        "import random\n",
        "\n",
        "# Landmark locations as lists\n",
        "def get_rgby():\n",
        "    R = [0, 0]\n",
        "    G = [0, 4]\n",
        "    B = [4, 3]\n",
        "    Y = [4, 0]\n",
        "    return [R, G, B, Y]\n",
        "\n",
        "LANDMARKS = [[0, 0], [0, 4], [4, 3], [4, 0]]  # list form\n",
        "\n",
        "def generate_state():\n",
        "    t = [random.randint(0, 4), random.randint(0, 4)]\n",
        "    landmarks = get_rgby()\n",
        "    p = random.choice(landmarks)\n",
        "    d = random.choice([loc for loc in landmarks if loc != p])\n",
        "    return [t, p, d]\n",
        "\n",
        "# Q-table creation\n",
        "def Q_table():\n",
        "    return np.zeros((6, 5, 5, 5, 4))  # a, x_t, y_t, p_idx, d_idx\n",
        "\n",
        "def coord_to_landmark_index(coord):\n",
        "    return LANDMARKS.index(coord)\n",
        "\n",
        "def passenger_to_index(passenger):\n",
        "    if passenger == 'in_taxi':\n",
        "        return 4\n",
        "    else:\n",
        "        return coord_to_landmark_index(passenger)\n",
        "\n",
        "def destination_to_index(destination):\n",
        "    return coord_to_landmark_index(destination)\n",
        "\n",
        "# Q-learning update\n",
        "def q_update(Q, state, action_str, next_state, reward, alpha=0.1, gamma=0.99):\n",
        "    action_map = {'S': 0, 'N': 1, 'E': 2, 'W': 3, 'P': 4, 'D': 5}\n",
        "    a = action_map[action_str]\n",
        "\n",
        "    x_t, y_t = state[0]\n",
        "    p_idx = passenger_to_index(state[1])\n",
        "    d_idx = destination_to_index(state[2])\n",
        "\n",
        "    x_next, y_next = next_state[0]\n",
        "    p_next_idx = passenger_to_index(next_state[1])\n",
        "    d_next_idx = destination_to_index(next_state[2])\n",
        "\n",
        "    max_next = np.max(Q[:, x_next, y_next, p_next_idx, d_next_idx])\n",
        "    td_target = reward + gamma * max_next\n",
        "\n",
        "    Q[a, x_t, y_t, p_idx, d_idx] += alpha * (td_target - Q[a, x_t, y_t, p_idx, d_idx])\n",
        "\n",
        "# Transition function\n",
        "def transition(s, a):\n",
        "    taxi = s[0][:]\n",
        "    passenger = s[1]\n",
        "    destination = s[2]\n",
        "    reward = -1  # default step cost\n",
        "\n",
        "    # Movement\n",
        "    if a == 'N':\n",
        "        taxi[0] = max(taxi[0] - 1, 0)\n",
        "    elif a == 'S':\n",
        "        taxi[0] = min(taxi[0] + 1, 4)\n",
        "    elif a == 'E':\n",
        "        taxi[1] = min(taxi[1] + 1, 4)\n",
        "    elif a == 'W':\n",
        "        taxi[1] = max(taxi[1] - 1, 0)\n",
        "\n",
        "    # Pickup\n",
        "    elif a == 'P':\n",
        "        if passenger != 'in_taxi' and taxi == passenger:\n",
        "            passenger = 'in_taxi'\n",
        "        else:\n",
        "            reward = -10\n",
        "\n",
        "    # Dropoff\n",
        "    elif a == 'D':\n",
        "        if passenger == 'in_taxi' and taxi == destination:\n",
        "            reward = 20\n",
        "            passenger = 'delivered'\n",
        "        else:\n",
        "            reward = -10\n",
        "\n",
        "    new_s = [taxi, passenger, destination]\n",
        "    return new_s, reward\n"
      ]
    },
    {
      "cell_type": "code",
      "source": [
        "Q = Q_table() # initialize Q table\n",
        "for episode in range(30000): # 1000 episodes\n",
        "  state = generate_state() # initialize state\n",
        "  while True:\n",
        "    x_t, y_t = state[0]\n",
        "    p_idx = passenger_to_index(state[1])\n",
        "    d_idx = destination_to_index(state[2])\n",
        "    q_index = np.argmin([Q[a, x_t, y_t, p_idx, d_idx] for a in range(6)])\n",
        "    # ε-greedy action selection\n",
        "    epsilon = 0.1\n",
        "    if np.random.uniform(0, 1) < epsilon:\n",
        "        a_idx = np.random.randint(6)\n",
        "    else:\n",
        "        q_values = [Q[a, x_t, y_t, p_idx, d_idx] for a in range(6)]\n",
        "        a_idx = np.argmax(q_values)\n",
        "    a = ['S', 'N', 'E', 'W', 'P', 'D'][a_idx]\n",
        "    next_state, reward = transition(state, a)\n",
        "    if next_state[1] == 'delivered':\n",
        "      break\n",
        "    q_update(Q, state, a, next_state, reward)\n",
        "    state = next_state\n"
      ],
      "metadata": {
        "id": "JPIwBdKhyhW2"
      },
      "execution_count": 44,
      "outputs": []
    },
    {
      "cell_type": "code",
      "source": [
        "def run_episode(Q):\n",
        "    state = generate_state()\n",
        "    steps = 0\n",
        "    total_reward = 0\n",
        "    print(f\"\\n🚕 Starting episode\")\n",
        "    print(f\"Initial Taxi Pos: {state[0]}, Passenger: {state[1]}, Destination: {state[2]}\\n\")\n",
        "\n",
        "    while True:\n",
        "        x_t, y_t = state[0]\n",
        "        p_idx = passenger_to_index(state[1])\n",
        "        d_idx = destination_to_index(state[2])\n",
        "\n",
        "        q_values = [Q[a, x_t, y_t, p_idx, d_idx] for a in range(6)]\n",
        "        a_idx = np.argmax(q_values)\n",
        "        action = ['S', 'N', 'E', 'W', 'P', 'D'][a_idx]\n",
        "\n",
        "        next_state, reward = transition(state, action)\n",
        "\n",
        "        steps += 1\n",
        "        total_reward += reward\n",
        "\n",
        "        print(f\"Step {steps:2}: Taxi at {state[0]}, Action: {action}, Reward: {reward}\")\n",
        "\n",
        "        if next_state[1] == 'delivered':\n",
        "            print(f\"\\n🎉 Episode complete in {steps} steps! Total reward: {total_reward}\\n\")\n",
        "            break\n",
        "\n",
        "        state = next_state\n"
      ],
      "metadata": {
        "id": "KEgTOrnv8RXB"
      },
      "execution_count": 45,
      "outputs": []
    },
    {
      "cell_type": "code",
      "source": [
        "run_episode(Q)"
      ],
      "metadata": {
        "colab": {
          "base_uri": "https://localhost:8080/"
        },
        "id": "VJcKbQrl8Wlc",
        "outputId": "0ebec61d-a607-4ac4-c41e-3f8b4d2932ac"
      },
      "execution_count": 54,
      "outputs": [
        {
          "output_type": "stream",
          "name": "stdout",
          "text": [
            "\n",
            "🚕 Starting episode\n",
            "Initial Taxi Pos: [3, 2], Passenger: [4, 3], Destination: [0, 4]\n",
            "\n",
            "Step  1: Taxi at [3, 2], Action: E, Reward: -1\n",
            "Step  2: Taxi at [3, 3], Action: S, Reward: -1\n",
            "Step  3: Taxi at [4, 3], Action: P, Reward: -1\n",
            "Step  4: Taxi at [4, 3], Action: N, Reward: -1\n",
            "Step  5: Taxi at [3, 3], Action: N, Reward: -1\n",
            "Step  6: Taxi at [2, 3], Action: N, Reward: -1\n",
            "Step  7: Taxi at [1, 3], Action: N, Reward: -1\n",
            "Step  8: Taxi at [0, 3], Action: E, Reward: -1\n",
            "Step  9: Taxi at [0, 4], Action: D, Reward: 20\n",
            "\n",
            "🎉 Episode complete in 9 steps! Total reward: 12\n",
            "\n"
          ]
        }
      ]
    }
  ]
}