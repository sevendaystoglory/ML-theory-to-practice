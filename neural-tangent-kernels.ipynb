{
 "cells": [
  {
   "cell_type": "code",
   "execution_count": 69,
   "id": "c6525b66",
   "metadata": {},
   "outputs": [],
   "source": [
    "import torch\n",
    "import torch.nn as nn\n",
    "\n",
    "class basic_nn(nn.Module):\n",
    "    def __init__(self, width = 100):\n",
    "        super().__init__()\n",
    "        self.seq = nn.Sequential(\n",
    "            nn.Linear(1, width),\n",
    "            nn.ReLU(),\n",
    "            nn.Linear(width,1)\n",
    "        )\n",
    "\n",
    "    def forward(self, x):\n",
    "        x = self.seq(x)\n",
    "        return x # y\n",
    "    \n",
    "device = 'cuda' if torch.cuda.is_available else 'cpu'"
   ]
  },
  {
   "cell_type": "code",
   "execution_count": null,
   "id": "2bdc4a3d",
   "metadata": {},
   "outputs": [],
   "source": [
    "# everything is for 100 nns\n",
    "N = 40\n",
    "widths = [10, 100, 1000, 10000, 100000]\n",
    "glob = {}\n",
    "for w in widths:\n",
    "    nns = [basic_nn(width = w).to(device) for _ in range(N)] # 100 random nets\n",
    "    inits = {\n",
    "        i: [\n",
    "            (x/50, (nns[i](torch.tensor([x / 50], dtype=torch.float32).to(device)).to('cpu')).item()   ) \n",
    "            for x in range(-400, 400)\n",
    "        ]\n",
    "        for i in range(N)\n",
    "    }\n",
    "    glob[w] = inits\n"
   ]
  },
  {
   "cell_type": "code",
   "execution_count": 74,
   "id": "5f5bbc21",
   "metadata": {},
   "outputs": [],
   "source": [
    "import matplotlib.pyplot as plt\n",
    "import numpy as np\n",
    "cols = {10 : \"blue\", 100 : \"green\", 1000 : \"yellow\", 10000 : \"orange\", 100000 : \"red\"}\n",
    "for w in widths:\n",
    "    for i in range(N):\n",
    "        inits = glob[w]\n",
    "        data = np.array(inits[i])\n",
    "        # plt.plot(data[:, 0], data[:, 1], linewidth=0.5, color=cols[w])\n",
    "    # plt.show()\n"
   ]
  },
  {
   "cell_type": "code",
   "execution_count": null,
   "id": "a6947a80",
   "metadata": {},
   "outputs": [],
   "source": [
    "X_train = np.array([-4, 4])\n",
    "y_train = np.array([-2, 0])\n",
    "\n"
   ]
  }
 ],
 "metadata": {
  "kernelspec": {
   "display_name": "Python 3",
   "language": "python",
   "name": "python3"
  },
  "language_info": {
   "codemirror_mode": {
    "name": "ipython",
    "version": 3
   },
   "file_extension": ".py",
   "mimetype": "text/x-python",
   "name": "python",
   "nbconvert_exporter": "python",
   "pygments_lexer": "ipython3",
   "version": "3.10.6"
  }
 },
 "nbformat": 4,
 "nbformat_minor": 5
}
